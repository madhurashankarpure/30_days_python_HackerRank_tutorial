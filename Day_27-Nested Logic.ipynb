{
 "cells": [
  {
   "cell_type": "code",
   "execution_count": null,
   "id": "1726f3c3",
   "metadata": {},
   "outputs": [],
   "source": [
    "# Enter your code here. Read input from STDIN. Print output to STDOUT\n",
    "D1, M1, Y1 = map(int, input().split())\n",
    "D2, M2, Y2 = map(int, input().split())\n",
    "fixed_fine = 0\n",
    "\n",
    "if Y1 > Y2:\n",
    "    fixed_fine = 10000\n",
    "elif Y1 == Y2 and M1 > M2:\n",
    "    fixed_fine = 500 * (M1 - M2)\n",
    "elif Y1 == Y2 and M1 == M2 and D1 > D2:\n",
    "    fixed_fine = 15 * (D1 - D2)\n",
    "\n",
    "print(fixed_fine)\n",
    "\n"
   ]
  }
 ],
 "metadata": {
  "kernelspec": {
   "display_name": "Python 3 (ipykernel)",
   "language": "python",
   "name": "python3"
  },
  "language_info": {
   "codemirror_mode": {
    "name": "ipython",
    "version": 3
   },
   "file_extension": ".py",
   "mimetype": "text/x-python",
   "name": "python",
   "nbconvert_exporter": "python",
   "pygments_lexer": "ipython3",
   "version": "3.11.4"
  }
 },
 "nbformat": 4,
 "nbformat_minor": 5
}
