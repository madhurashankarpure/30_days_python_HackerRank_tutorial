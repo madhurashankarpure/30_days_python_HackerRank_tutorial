{
 "cells": [
  {
   "cell_type": "code",
   "execution_count": null,
   "id": "23a73819",
   "metadata": {},
   "outputs": [],
   "source": [
    "    def removeDuplicates(self,head):\n",
    "        a = []\n",
    "        if head == None:\n",
    "            return \n",
    "        p = head\n",
    "        a.append(p.data)\n",
    "        p = p.next\n",
    "        while p is not None:\n",
    "            a.append(p.data)\n",
    "            p = p.next\n",
    "        a = list(dict.fromkeys(a))\n",
    "        for item in a:\n",
    "            print(item,end=' ')"
   ]
  }
 ],
 "metadata": {
  "kernelspec": {
   "display_name": "Python 3 (ipykernel)",
   "language": "python",
   "name": "python3"
  },
  "language_info": {
   "codemirror_mode": {
    "name": "ipython",
    "version": 3
   },
   "file_extension": ".py",
   "mimetype": "text/x-python",
   "name": "python",
   "nbconvert_exporter": "python",
   "pygments_lexer": "ipython3",
   "version": "3.11.4"
  }
 },
 "nbformat": 4,
 "nbformat_minor": 5
}
