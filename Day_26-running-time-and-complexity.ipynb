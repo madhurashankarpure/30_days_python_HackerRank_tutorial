{
 "cells": [
  {
   "cell_type": "code",
   "execution_count": null,
   "id": "23a767ab",
   "metadata": {},
   "outputs": [],
   "source": [
    "# Enter your code here. Read input from STDIN. Print output to STDOUT\n",
    "from math import sqrt\n",
    "\n",
    "def primality(n):\n",
    "    if not n%2 and n!=2 or n==1: return \"Not prime\"\n",
    "    for i in range(3,int(sqrt(n))+1,2):\n",
    "        if not n%i: return \"Not prime\"\n",
    "    return \"Prime\"\n",
    "\n",
    "for _ in range(int(input())):\n",
    "    n = int(input())\n",
    "    print(primality(n))"
   ]
  }
 ],
 "metadata": {
  "kernelspec": {
   "display_name": "Python 3 (ipykernel)",
   "language": "python",
   "name": "python3"
  },
  "language_info": {
   "codemirror_mode": {
    "name": "ipython",
    "version": 3
   },
   "file_extension": ".py",
   "mimetype": "text/x-python",
   "name": "python",
   "nbconvert_exporter": "python",
   "pygments_lexer": "ipython3",
   "version": "3.11.4"
  }
 },
 "nbformat": 4,
 "nbformat_minor": 5
}
