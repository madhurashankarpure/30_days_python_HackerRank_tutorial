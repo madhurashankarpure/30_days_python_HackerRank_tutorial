{
 "cells": [
  {
   "cell_type": "code",
   "execution_count": null,
   "id": "28717ee1",
   "metadata": {},
   "outputs": [],
   "source": [
    "'use strict';\n",
    "\n",
    "process.stdin.resume();\n",
    "process.stdin.setEncoding('utf-8');\n",
    "let inputString: string = '';\n",
    "let inputLines: string[] = [];\n",
    "let currentLine: number = 0;\n",
    "process.stdin.on('data', function(inputStdin: string): void {\n",
    "    inputString += inputStdin;\n",
    "});\n",
    "\n",
    "process.stdin.on('end', function(): void {\n",
    "    inputLines = inputString.split('\\n');\n",
    "    inputString = '';\n",
    "    main();\n",
    "});\n",
    "\n",
    "function readLine(): string {\n",
    "    return inputLines[currentLine++];\n",
    "}\n",
    "function consoleArray<T>(item: T) : void {\n",
    "    console.log(item);   \n",
    "}\n",
    "function main() {\n",
    "    // Enter your code here\n",
    "    let input = readLine(); \n",
    "    \n",
    "    while(typeof input === \"string\") {\n",
    "        for(let i = 0; i < parseInt(input); i++) {\n",
    "            consoleArray<string>(readLine());\n",
    "        }\n",
    "        \n",
    "        input = readLine();\n",
    "    }\n",
    "}\n"
   ]
  }
 ],
 "metadata": {
  "kernelspec": {
   "display_name": "Python 3 (ipykernel)",
   "language": "python",
   "name": "python3"
  },
  "language_info": {
   "codemirror_mode": {
    "name": "ipython",
    "version": 3
   },
   "file_extension": ".py",
   "mimetype": "text/x-python",
   "name": "python",
   "nbconvert_exporter": "python",
   "pygments_lexer": "ipython3",
   "version": "3.11.4"
  }
 },
 "nbformat": 4,
 "nbformat_minor": 5
}
