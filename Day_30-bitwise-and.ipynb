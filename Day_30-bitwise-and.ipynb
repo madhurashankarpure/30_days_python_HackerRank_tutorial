{
 "cells": [
  {
   "cell_type": "code",
   "execution_count": null,
   "id": "8fcd4ab0",
   "metadata": {},
   "outputs": [],
   "source": [
    "#!/bin/python3\n",
    "\n",
    "import math\n",
    "import os\n",
    "import random\n",
    "import re\n",
    "import sys\n",
    "\n",
    "#\n",
    "# Complete the 'bitwiseAnd' function below.\n",
    "#\n",
    "# The function is expected to return an INTEGER.\n",
    "# The function accepts following parameters:\n",
    "#  1. INTEGER N\n",
    "#  2. INTEGER K\n",
    "#\n",
    "\n",
    "def bitwiseAnd(N, K):\n",
    "    # Write your code here\n",
    "    maxval = 0\n",
    "    for A in range(1, N + 1):\n",
    "        for B in range(A + 1, N + 1):\n",
    "            currentval = A & B\n",
    "\n",
    "            if currentval < K and currentval > maxval:\n",
    "                maxval = currentval\n",
    "\n",
    "    return maxval\n",
    "\n",
    "if __name__ == '__main__':\n",
    "    fptr = open(os.environ['OUTPUT_PATH'], 'w')\n",
    "\n",
    "    t = int(input().strip())\n",
    "\n",
    "    for t_itr in range(t):\n",
    "        first_multiple_input = input().rstrip().split()\n",
    "\n",
    "        count = int(first_multiple_input[0])\n",
    "\n",
    "        lim = int(first_multiple_input[1])\n",
    "\n",
    "        res = bitwiseAnd(count, lim)\n",
    "\n",
    "        fptr.write(str(res) + '\\n')\n",
    "\n",
    "    fptr.close()\n"
   ]
  },
  {
   "cell_type": "code",
   "execution_count": null,
   "id": "06f4bc36",
   "metadata": {},
   "outputs": [],
   "source": []
  }
 ],
 "metadata": {
  "kernelspec": {
   "display_name": "Python 3 (ipykernel)",
   "language": "python",
   "name": "python3"
  },
  "language_info": {
   "codemirror_mode": {
    "name": "ipython",
    "version": 3
   },
   "file_extension": ".py",
   "mimetype": "text/x-python",
   "name": "python",
   "nbconvert_exporter": "python",
   "pygments_lexer": "ipython3",
   "version": "3.11.4"
  }
 },
 "nbformat": 4,
 "nbformat_minor": 5
}
